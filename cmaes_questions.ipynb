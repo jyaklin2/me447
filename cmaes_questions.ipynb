{
 "cells": [
  {
   "cell_type": "markdown",
   "metadata": {
    "id": "SYSsyEzV7q5d"
   },
   "source": [
    "# CMAES : Covariance Matrix Adaptation Evolutionary Strategy"
   ]
  },
  {
   "cell_type": "markdown",
   "metadata": {
    "id": "IVdgd_3e7q5e"
   },
   "source": [
    "Setup code and utility functions to plot and explore"
   ]
  },
  {
   "cell_type": "code",
   "execution_count": null,
   "metadata": {
    "id": "LP3adY-j7q5e"
   },
   "outputs": [],
   "source": [
    "import numpy as np\n",
    "import matplotlib.pyplot as plt\n",
    "import matplotlib.colors as colors\n",
    "from matplotlib import cm\n",
    "from mpl_toolkits.mplot3d import axes3d, Axes3D\n",
    "from numpy.random import multivariate_normal\n",
    "import copy\n",
    "\n",
    "%matplotlib inline\n",
    "    \n",
    "SEED = 42\n",
    "rng = np.random.default_rng(seed=SEED)"
   ]
  },
  {
   "cell_type": "code",
   "execution_count": null,
   "metadata": {
    "id": "dnMVdYjx7q5f"
   },
   "outputs": [],
   "source": [
    "def range_from_bounds(bounds, resolution):\n",
    "    (minx,miny),(maxx,maxy) = bounds\n",
    "    x_range = np.arange(minx, maxx, (maxx-minx)/resolution)\n",
    "    y_range = np.arange(miny, maxy, (maxy-miny)/resolution)\n",
    "    return x_range, y_range\n",
    "\n",
    "def plot_problem_3d(problem, bounds, ax=None, resolution=100.,\n",
    "                    cmap=cm.viridis_r, rstride=10, cstride=10,\n",
    "                    linewidth=0.15, alpha=0.65):\n",
    "    \"\"\"Plots a given benchmark problem in 3D mesh.\"\"\"\n",
    "\n",
    "    x_range, y_range = range_from_bounds(bounds, resolution=resolution)\n",
    "\n",
    "    X, Y = np.meshgrid(x_range, y_range)\n",
    "    Z = problem(X,Y)\n",
    "\n",
    "    if not ax:\n",
    "        fig = plt.figure(figsize=(11,6))\n",
    "        # ax = fig.gca(projection='3d')\n",
    "        ax = plt.axes(projection=\"3d\") # For new matplotlib version\n",
    "\n",
    "    cset = ax.plot_surface(X, Y, Z, cmap=cmap, rstride=rstride, cstride=cstride, linewidth=linewidth, alpha=alpha)"
   ]
  },
  {
   "cell_type": "code",
   "execution_count": null,
   "metadata": {
    "id": "1TbYaZXk7q5f"
   },
   "outputs": [],
   "source": [
    "def plot_problem_contour(problem, bounds, optimum=None,\n",
    "                          resolution=100., cmap=cm.viridis_r,\n",
    "                          alpha=0.45, ax=None):\n",
    "    \"\"\"Plots a given benchmark problem as a countour.\"\"\"\n",
    "    x_range, y_range = range_from_bounds(bounds, resolution=resolution)\n",
    "\n",
    "    X, Y = np.meshgrid(x_range, y_range)\n",
    "    Z = problem(X,Y)\n",
    "\n",
    "    if not ax:\n",
    "        fig = plt.figure(figsize=(6,6))\n",
    "        ax = fig.gca()\n",
    "        ax.set_aspect('equal')\n",
    "        ax.autoscale(tight=True)\n",
    "\n",
    "    cset = ax.contourf(X, Y, Z, cmap=cmap, alpha=alpha)\n",
    "\n",
    "    if optimum:\n",
    "        ax.plot(optimum[0], optimum[1], 'bx', linewidth=4, markersize=15)"
   ]
  },
  {
   "cell_type": "code",
   "execution_count": null,
   "metadata": {
    "id": "hcpe1Vbt7q5f"
   },
   "outputs": [],
   "source": [
    "def plot_cov_ellipse(pos, cov, volume=.99, ax=None, fc='lightblue', ec='darkblue', alpha=1, lw=1):\n",
    "    ''' Plots an ellipse that corresponds to a bivariate normal distribution.\n",
    "    Adapted from http://www.nhsilbert.net/source/2014/06/bivariate-normal-ellipse-plotting-in-python/'''\n",
    "    from scipy.stats import chi2\n",
    "    from matplotlib.patches import Ellipse\n",
    "\n",
    "    def eigsorted(cov):\n",
    "        vals, vecs = np.linalg.eigh(cov)\n",
    "        order = vals.argsort()[::-1]\n",
    "        return vals[order], vecs[:,order]\n",
    "\n",
    "    if ax is None:\n",
    "        ax = plt.gca()\n",
    "\n",
    "    vals, vecs = eigsorted(cov)\n",
    "    theta = np.degrees(np.arctan2(*vecs[:,0][::-1]))\n",
    "\n",
    "    kwrg = {'facecolor':fc, 'edgecolor':ec, 'alpha':alpha, 'linewidth':lw}\n",
    "\n",
    "    # Width and height are \"full\" widths, not radius\n",
    "    width, height = 2 * np.sqrt(chi2.ppf(volume,2)) * np.sqrt(vals)\n",
    "    ellip = Ellipse(xy=pos, width=width, height=height, angle=theta, **kwrg)\n",
    "    ax.add_artist(ellip)"
   ]
  },
  {
   "cell_type": "markdown",
   "metadata": {
    "id": "dfh4CejS7q5f"
   },
   "source": [
    "## Test functions\n",
    "\n",
    "### Why benchmarks (test) functions?\n",
    "\n",
    "In applied mathematics, [test functions](http://en.wikipedia.org/wiki/Test_functions_for_optimization), also known as artificial landscapes, are useful to evaluate characteristics of optimization algorithms, such as:\n",
    "\n",
    "* Velocity of convergence.\n",
    "* Precision.\n",
    "* Robustness.\n",
    "* General performance.\n",
    "\n",
    "### [Bohachevsky benchmark problem](http://benchmarkfcns.xyz/benchmarkfcns/bohachevskyn2fcn.html)\n",
    "\n",
    "$$\\text{minimize } f(\\mathbf{x}) = \\sum_{i=1}^{N-1}(x_i^2 + 2x_{i+1}^2 - 0.3\\cos(3\\pi x_i) - 0.4\\cos(4\\pi x_{i+1}) + 0.7), \\mathbf{x}\\in \\left[-100,100\\right]^n,$$\n",
    "\n",
    "> Optimum in $\\mathbf{x}=\\mathbf{0}$, $f(\\mathbf{x})=0$."
   ]
  },
  {
   "cell_type": "code",
   "execution_count": null,
   "metadata": {
    "id": "Q1tkeIbw7q5f"
   },
   "outputs": [],
   "source": [
    "def _shifted_bohachevsky_impl(x, y, shift_x, shift_y):\n",
    "    return (x-shift_x)**2 + 2.0 * (y-shift_y)**2 - 0.3 * np.cos(3.0 * np.pi * (x - shift_x)) - 0.4 * np.cos(4.0 * np.pi* (y - shift_y)) + 0.7\n",
    "# def bohachevsky(x,y):\n",
    "#     return x**2 + 2.0 * y**2 - 0.3 * np.cos(3.0 * np.pi * x) - 0.4 * np.cos(4.0 * np.pi*x) + 0.7"
   ]
  },
  {
   "cell_type": "code",
   "execution_count": null,
   "metadata": {
    "id": "lDQTm3VG7q5f"
   },
   "outputs": [],
   "source": [
    "from functools import partial\n",
    "bohachevsky = partial(_shifted_bohachevsky_impl, shift_x = 0.0, shift_y = 0.0)\n",
    "shifted_bohachevsky = partial(_shifted_bohachevsky_impl, shift_x = 2.0, shift_y = 2.0)"
   ]
  },
  {
   "cell_type": "markdown",
   "metadata": {
    "id": "pG-4Llwu7q5g"
   },
   "source": [
    "### [Griewank benchmark problem](http://benchmarkfcns.xyz/benchmarkfcns/griewankfcn.html)\n",
    "\n",
    "$$\\text{minimize } f(\\mathbf{x}) = f(x_1, ..., x_n) = 1 + \\sum_{i=1}^{n} \\frac{x_i^{2}}{4000} - \\prod_{i=1}^{n}\\cos\\left(\\frac{2 \\cdot x_i}{\\sqrt{i}}\\right)$$\n",
    "\n",
    "> Optimum in $\\mathbf{x}=\\mathbf{0}$, $f(\\mathbf{x})=0$."
   ]
  },
  {
   "cell_type": "code",
   "execution_count": null,
   "metadata": {
    "id": "Xk57T0PJ7q5g"
   },
   "outputs": [],
   "source": [
    "def _shifted_griewank_impl(x,y,shift_x, shift_y):\n",
    "    return 1.0 + ((x-shift_x)**2 + (y-shift_y)**2) / 4000.0 - np.cos(2.0 * (x-shift_x)) * np.cos(2.0 * (y-shift_y) / np.sqrt(2.0))\n",
    "\n",
    "# def griewank(x,y):\n",
    "#     return 1.0 + (x**2 + y**2) / 4000.0 - np.cos(2.0 * x) * np.cos(2.0 * y / np.sqrt(2.0))"
   ]
  },
  {
   "cell_type": "code",
   "execution_count": null,
   "metadata": {
    "id": "YaWXhV2r7q5g"
   },
   "outputs": [],
   "source": [
    "griewank = partial(_shifted_griewank_impl, shift_x = 0.0, shift_y = 0.0)\n",
    "shifted_griewank = partial(_shifted_griewank_impl, shift_x = 2.0, shift_y = 2.0)"
   ]
  },
  {
   "cell_type": "code",
   "execution_count": null,
   "metadata": {
    "id": "Zt43RTCt7q5g"
   },
   "outputs": [],
   "source": [
    "current_problem = bohachevsky"
   ]
  },
  {
   "cell_type": "code",
   "execution_count": null,
   "metadata": {
    "id": "MwtA_8cy7q5g"
   },
   "outputs": [],
   "source": [
    "plot_problem_3d(current_problem, ((-10,-10), (10,10)))"
   ]
  },
  {
   "cell_type": "markdown",
   "metadata": {
    "id": "YkrVngG37q5g"
   },
   "source": [
    "These problems has many local optima."
   ]
  },
  {
   "cell_type": "code",
   "execution_count": null,
   "metadata": {
    "id": "ZlHdNOec7q5g"
   },
   "outputs": [],
   "source": [
    "plot_problem_3d(current_problem, ((-2.5,-2.5), (2.5,2.5)))"
   ]
  },
  {
   "cell_type": "code",
   "execution_count": null,
   "metadata": {
    "id": "SAJoPGY_7q5g"
   },
   "outputs": [],
   "source": [
    "ax = plt.figure(figsize=(8, 5)).gca()\n",
    "plot_problem_contour(current_problem, ((-2.5,-2.5), (2.5,2.5)), optimum=(0,0), ax=ax)\n",
    "ax.set_aspect('equal')"
   ]
  },
  {
   "cell_type": "markdown",
   "metadata": {
    "id": "E1C0y8Ov7q5g"
   },
   "source": [
    "## Optimizing test functions using CMA-ES\n",
    "\n",
    "### CMA-ES features\n",
    "\n",
    "* Adaptation of the covariance matrix amounts to learning a second order model of the underlying objective function.\n",
    "* This is similar to the approximation of the inverse Hessian matrix in the Quasi-Newton method in classical optimization.\n",
    "* In contrast to most classical methods, fewer assumptions on the nature of the underlying objective function are made.\n",
    "* *Only the ranking between candidate solutions is exploited* for learning the sample distribution and neither derivatives nor even the function values themselves are required by the method.\n",
    "\n",
    "\n",
    "## Let's code up CMA from scratch!"
   ]
  },
  {
   "cell_type": "markdown",
   "metadata": {
    "id": "vSJH-Luh7q5g"
   },
   "source": [
    "Here are the steps of CMA in chronological order :\n",
    "$$\n",
    "\\newcommand{\\gv}[1]{\\ensuremath{\\mbox{\\boldmath$ #1 $}}}\n",
    "\\newcommand{\\bv}[1]{\\ensuremath{\\mathbf{#1}}}\n",
    "\\newcommand{\\norm}[1]{\\left\\lVert#1\\right\\rVert}\n",
    "\\newcommand{\\order}[1]{\\mathcal O \\left( #1 \\right)} % order of magnitude\n",
    "$$\n",
    "\n",
    "### Initialization\n",
    "Set $ \\mathbf{m} = \\mathbf{0}, \\mathbf{C} = \\mathbf{I}, \\sigma = 0.5, \\mathbf{p}_c = \\mathbf{0}, \\mathbf{p}_{\\sigma} = \\mathbf{0} $\n",
    "\n",
    "### Sampling\n",
    "$$ \\begin{aligned}\n",
    "\\mathbf{z}_{i} & \\sim \\mathcal{N}(\\mathbf{0}, \\mathbf{C}) \\\\\n",
    "\\mathbf{x}_{i} &= m+\\sigma \\mathbf{z}_{i}\n",
    "\\end{aligned} $$\n",
    "\n",
    "### Selection and recombination\n",
    "Sort the ppopulation by fitness to get $ \\mu $  fit individuals\n",
    "$$ \\begin{aligned}\n",
    "\\langle\\mathbf{z}\\rangle_{w} &= \\displaystyle\\sum_{i=1}^{\\mu} w_{i} \\mathbf{z}_{i : \\lambda} \\\\\n",
    "\\mathbf{m} &\\longleftarrow \\mathbf{m}+\\sigma\\langle\\mathbf{z}\\rangle_{w}\n",
    "\\end{aligned} $$\n",
    "\n",
    "### Step size update\n",
    "$$ \\begin{aligned}\n",
    "\\mathbf{p}_{\\sigma} &\\longleftarrow\\left(1-c_{\\sigma}\\right)\n",
    "\\mathbf{p}_{\\sigma}+\\sqrt{1-\\left(1-c_{\\sigma}\\right)^{2}}\n",
    "\\sqrt{\\frac{1}{\\sum_{i=1}^{\\mu} w_{i}^{2}}}\n",
    "\\mathbf{C}^{-\\frac{1}{2}}\\langle\\mathbf{z}\\rangle_{w} \\\\\n",
    "\\sigma &\\longleftarrow \\sigma\n",
    "\\exp{\\left(\\frac{1}{d_{\\sigma}}\\left(\\frac{\\left\\|p_{\\sigma}\\right\\|}{E\\|\\mathcal{N}(\\mathbf{0},\n",
    "\\mathbf{I})\\|}-1\\right)\\right)} \\\\\n",
    "\\end{aligned} $$\n",
    "\n",
    "\n",
    "### Covariance Matrix update\n",
    "$$ \\begin{aligned}\n",
    "\\mathbf{p}_{c} &\\longleftarrow \\left(1-c_{c}\\right)\n",
    "\\mathbf{p}_{c}+\\sqrt{1-\\left(1-c_{c}\\right)^{2}} \\sqrt{\\frac{1}{\\sum_{i=1}^{\\mu}\n",
    "w_{i}^{2}}}\\langle\\mathbf{z}\\rangle_{w} \\\\\n",
    "\\mathbf{Z} &= \\sum_{i=1}^{\\mu} w_{i} \\mathbf{z}_{i : \\lambda} \\mathbf{z}_{i :\n",
    "\\lambda}^{T} \\\\\n",
    "\\mu_{c o v}&=\\sqrt{\\frac{1}{\\sum_{i=1}^{\\mu} w_{i}^{2}}} \\\\\n",
    "\\mathbf{C} &\\longleftarrow\\left(1-c_{c o v}\\right) \\mathbf{C}+c_{c o v}\n",
    "\\frac{1}{\\mu_{c o v}} \\mathbf{p}_{c} \\mathbf{p}_{c}^{T}+c_{c o\n",
    "v}\\left(1-\\frac{1}{\\mu_{c o v}}\\right) \\mathbf{Z}\n",
    "\\end{aligned} $$\n",
    "\n",
    "Some considerations:\n",
    " - `centroid` and `mean` are interchangeable.\n",
    " - `chi_N` is the expectation for the length of a random vector sampled from a multivariate normal distribution with $\\mathbf{C} = \\mathbf{I}$, and is used in the step-size update above. It can be analytically computed as $ \\approx \\sqrt{n} \\left( 1 - \\dfrac{1}{4n} + \\dfrac{1}{21n^2} \\right)$\n",
    " - `mu_eff` $ \\mu_{\\textrm{eff}} = \\left(\\displaystyle\\sum_{i=1}^{\\mu} w_{i}^{2}\\right)^{-1} $ is the variance effective selection mass for the mean, as used in the CMA tutorial. Thus $\\mu_{\\textrm{cov}} = \\sqrt{\\mu_{\\textrm{eff}}}$\n"
   ]
  },
  {
   "cell_type": "code",
   "execution_count": null,
   "metadata": {
    "id": "8IUk3n0M7q5g"
   },
   "outputs": [],
   "source": [
    "class CMAES:\n",
    "    \"\"\"Naive CMA implementation\"\"\"\n",
    "\n",
    "    def __init__(self, initial_mean, sigma, popsize, **kwargs):\n",
    "        \"\"\"Please do all the initialization. The reserve space and\n",
    "        code for collecting the statistics are already provided.\"\"\"\n",
    "\n",
    "        # Things that evolve : centroid, sigma, paths etc.\n",
    "        self.centroid = \"\"\"fill\"\"\"\n",
    "        self.sigma = \"\"\"fill\"\"\"\n",
    "\n",
    "        # pc is the path taken by the covariance matrix\n",
    "        self.pc = \"\"\"fill\"\"\"\n",
    "\n",
    "        # ps is the path taken by sigma / step-size updates\n",
    "        self.ps = \"\"\"fill\"\"\"\n",
    "\n",
    "        self.C = \"\"\"fill\"\"\"\n",
    "        self.B = \"\"\"fill\"\"\"\n",
    "        self.diagD = \"\"\"fill\"\"\"\n",
    "\n",
    "        # Population size etc.\n",
    "        self.popsize = popsize\n",
    "        self.mu = \"\"\"fill\"\"\"\n",
    "\n",
    "        # Update weights\n",
    "        self.weights = \"\"\"fill\"\"\"\n",
    "\n",
    "        # Utility variables\n",
    "        self.dim = initial_mean.shape[0]\n",
    "\n",
    "        # Expectation of a normal distribution\n",
    "        self.chiN = np.sqrt(self.dim) * (1.0 - 0.25 / self.dim + 1.0/(21.0 * self.dim**2))\n",
    "        self.mueff = \"\"\"fill\"\"\"\n",
    "        self.generations = 0\n",
    "\n",
    "        # Options\n",
    "\n",
    "        # Sigma adaptation\n",
    "        # cs is short for c_sigma\n",
    "        self.cs = \"\"\"fill\"\"\"\n",
    "        # ds is short for d_sigma\n",
    "        self.ds = \"\"\"fill\"\"\"\n",
    "\n",
    "        # Covariance adaptation\n",
    "        self.cc = \"\"\"fill\"\"\"\n",
    "        self.ccov = \"\"\"fill\"\"\"\n",
    "        # If implementing the latest version of CMA according to the tutorial,\n",
    "        # these parameters can be useful, if not that avoid\n",
    "        self.ccov1 = 0.0\n",
    "        self.ccovmu = 0.0\n",
    "\n",
    "        ### Asserts to guide you on your paths\n",
    "        #                    .--.\n",
    "        #  ::\\`--._,'.::.`._.--'/::     Do or do not.\n",
    "        #  ::::.  ` __::__ '  .::::    There is no try.\n",
    "        #  ::::::-:.`'..`'.:-::::::\n",
    "        #  ::::::::\\ `--' /::::::::              -Yoda\n",
    "\n",
    "        assert self.dim == 2, \"We are dealing with a two-dimensional problem only\"\n",
    "        assert self.centroid.shape == (2,), \"Centroid shape is incorrect, did you tranpose it by mistake?\"\n",
    "        assert self.sigma > 0.0, \"Sigma is not a non-zero positive number!\"\n",
    "        assert self.pc.shape == (2, ), \"pc shape is incorrect, did you tranpose it by mistake?\"\n",
    "        assert self.ps.shape == (2, ), \"ps shape is incorrect, did you tranpose it by mistake?\"\n",
    "        assert self.C.shape == (2, 2), \"C's shape is incorrect, remember C is a matrix!\"\n",
    "        assert type(self.popsize) == int, \"Population size not an integer\"\n",
    "        assert self.popsize > 0 , \"Population size is negative!\"\n",
    "        assert self.popsize > 2 , \"Too little population size, make it >2\"\n",
    "\n",
    "        # Collect useful statistics\n",
    "        self.stats_centroids = []\n",
    "        self.stats_new_centroids = []\n",
    "        self.stats_covs = []\n",
    "        self.stats_new_covs = []\n",
    "        self.stats_offspring = []\n",
    "        self.stats_offspring_weights = []\n",
    "        self.stats_ps = []\n",
    "\n",
    "    def run(self, problem):\n",
    "        while (# fill in your termination criterion here):\n",
    "            # Sample the population here!\n",
    "            # Its convenient to do it as a list of members\n",
    "            population = \"\"\"fill\"\"\"\n",
    "\n",
    "            # Pass the population to update, which computes all new parameters\n",
    "            # while sorting the populatoin\n",
    "            self.update(problem, population)\n",
    "\n",
    "            # increment generation counter\n",
    "            self.generations += 1\n",
    "        else:\n",
    "            # returns the best individual at the last generation\n",
    "            return population[0]\n",
    "\n",
    "    def update(self, problem, population):\n",
    "        \"\"\"Update the current covariance matrix strategy from the\n",
    "        *population*.\n",
    "\n",
    "        :param population: A list of individuals from which to update the\n",
    "                           parameters.\n",
    "        \"\"\"\n",
    "        # -- store current state of the algorithm\n",
    "        self.stats_centroids.append(copy.deepcopy(self.centroid))\n",
    "        self.stats_covs.append(copy.deepcopy(self.C))\n",
    "\n",
    "        # Sort the population here and work with only the sorted population\n",
    "\n",
    "        \"\"\"FILL : Python code to sort population goes here\"\"\"\n",
    "\n",
    "        # -- store sorted offspring\n",
    "        self.stats_offspring.append(copy.deepcopy(population))\n",
    "\n",
    "        # Store old centroid in-case\n",
    "        old_centroid = self.centroid\n",
    "        # Update centroid to self.centroid here\n",
    "        self.centroid = \"\"\"FILL : Code to calculate new centroid/mean\"\"\"\n",
    "\n",
    "        # -- store new centroid\n",
    "        self.stats_new_centroids.append(copy.deepcopy(self.centroid))\n",
    "\n",
    "        # Cumulation : update evolution path\n",
    "        # Remember to use self.B, self.diagD wihch we store later\n",
    "        # See line 142-145\n",
    "        self.ps = \"\"\"FILL : Code to calculate new sigma path update\"\"\"\n",
    "\n",
    "        # -- store new evol path\n",
    "        self.stats_ps.append(copy.deepcopy(self.ps))\n",
    "\n",
    "        # Cumulation : update evolution path for centroid\n",
    "        self.pc = \"\"\"FILL : Code to calculate new centroid path update\"\"\"\n",
    "\n",
    "        # Update covariance matrix\n",
    "        self.C = \"\"\"FILL : Code to calculate new covariance matrix \"\"\"\n",
    "\n",
    "        # -- store new covs\n",
    "        self.stats_new_covs.append(copy.deepcopy(self.C))\n",
    "\n",
    "        # Update new sigma in-place, can be done before too\n",
    "        self.sigma *= \"\"\"FILL : Code to calculate update sigma \"\"\"\n",
    "\n",
    "        # Get the eigen decomposition for the covariance matrix to calculate inverse\n",
    "        diagD_squared, self.B = \"\"\"FILL : Code to calculate eigenvalues and eigenvectors \"\"\"\n",
    "\n",
    "        self.diagD = \"\"\" Fill in D : Do we need to sort it?\"\"\"\n",
    "        self.B = \"\"\" Fill in B : Do we need to sort it?\"\"\"\n",
    "\n",
    "    def reset(self):\n",
    "        \"\"\"Clears everything to rerun the problem\"\"\"\n",
    "        pass"
   ]
  },
  {
   "cell_type": "code",
   "execution_count": null,
   "metadata": {
    "id": "qBrqoFsx7q5h"
   },
   "outputs": [],
   "source": [
    "initial_centroid = rng.standard_normal(2)\n",
    "cma_es = CMAES(initial_centroid, 0.2, 10)"
   ]
  },
  {
   "cell_type": "code",
   "execution_count": null,
   "metadata": {
    "id": "7oscA7967q5h"
   },
   "outputs": [],
   "source": [
    "cma_es.run(current_problem)"
   ]
  },
  {
   "cell_type": "markdown",
   "metadata": {
    "id": "WxoxTsI87q5h"
   },
   "source": [
    "### Visualizing CMA-ES progress"
   ]
  },
  {
   "cell_type": "markdown",
   "metadata": {
    "id": "godHbyJ-7q5h"
   },
   "source": [
    "First some setup code. This visualizes the progress of CMA based on the data we recorded in the class above and plots it in the objective function manifold."
   ]
  },
  {
   "cell_type": "code",
   "execution_count": null,
   "metadata": {
    "id": "FpYcIuzX7q5h"
   },
   "outputs": [],
   "source": [
    "normalizer = colors.Normalize(vmin=np.min(cma_es.weights), vmax=np.max(cma_es.weights))\n",
    "sm = cm.ScalarMappable(norm=normalizer, cmap=plt.get_cmap('gray'))"
   ]
  },
  {
   "cell_type": "code",
   "execution_count": null,
   "metadata": {
    "id": "MnCoXA0J7q5h"
   },
   "outputs": [],
   "source": [
    "from matplotlib import animation\n",
    "from IPython.display import HTML"
   ]
  },
  {
   "cell_type": "code",
   "execution_count": null,
   "metadata": {
    "id": "oK0Rumw87q5h"
   },
   "outputs": [],
   "source": [
    "def animate_cma_es(gen):\n",
    "    ax.cla()\n",
    "    plot_problem_contour(current_problem, ((-11,-11), (11,11)), optimum=(0,0), ax=ax)\n",
    "\n",
    "    plot_cov_ellipse(cma_es.stats_centroids[gen], cma_es.stats_covs[gen], volume=0.99, alpha=0.29,\n",
    "                     fc='red', ec='darkred',\n",
    "                     ax=ax)\n",
    "    ax.plot(cma_es.stats_centroids[gen][0], cma_es.stats_centroids[gen][1], 'ro', markeredgecolor = 'none', ms=10)\n",
    "\n",
    "    plot_cov_ellipse(cma_es.stats_new_centroids[gen], cma_es.stats_new_covs[gen], volume=0.99,\n",
    "                     alpha=0.29, fc='green', ec='darkgreen', ax=ax)\n",
    "    ax.plot(cma_es.stats_new_centroids[gen][0], cma_es.stats_new_centroids[gen][1], 'go', markeredgecolor = 'none', ms=10)\n",
    "\n",
    "    for i in range(gen+1):\n",
    "        if i == 0:\n",
    "            ax.plot((0,cma_es.stats_ps[i][0]),\n",
    "                     (0,cma_es.stats_ps[i][1]), 'b--')\n",
    "        else:\n",
    "            ax.plot((cma_es.stats_ps[i-1][0],cma_es.stats_ps[i][0]),\n",
    "                     (cma_es.stats_ps[i-1][1],cma_es.stats_ps[i][1]),'b--')\n",
    "\n",
    "    for i,ind in enumerate(cma_es.stats_offspring[gen]):\n",
    "        if i < len(cma_es.weights):\n",
    "            color = sm.to_rgba(cma_es.weights[i])\n",
    "        else:\n",
    "            color= sm.to_rgba(normalizer.vmin)\n",
    "        ax.plot(ind[0], ind[1], 'o', color = color, ms=5, markeredgecolor = 'none')\n",
    "\n",
    "    ax.set_ylim((-10,10))\n",
    "    ax.set_xlim((-10,10))\n",
    "    ax.set_title('$generation=$' +str(gen))\n",
    "    return []"
   ]
  },
  {
   "cell_type": "code",
   "execution_count": null,
   "metadata": {
    "id": "YmJI-ejJ7q5h"
   },
   "outputs": [],
   "source": [
    "fig = plt.figure(figsize=(10,10))\n",
    "ax = fig.gca()\n",
    "anim = animation.FuncAnimation(fig, animate_cma_es, frames=cma_es.generations, interval=300, blit=True)\n",
    "plt.close()"
   ]
  },
  {
   "cell_type": "markdown",
   "metadata": {
    "id": "HkqzPQws7q5h"
   },
   "source": [
    "In the animation below :\n",
    "* Current centroid and covariance: **red**.\n",
    "* Updated centroid and covariance: **green**.\n",
    "* Sampled individuals: **shades of gray representing their corresponding weight**. (White is best)\n",
    "* Evolution path: **blue line starting in (0,0)**."
   ]
  },
  {
   "cell_type": "code",
   "execution_count": null,
   "metadata": {
    "id": "zT0ZkWqh7q5h"
   },
   "outputs": [],
   "source": [
    "HTML(anim.to_html5_video())"
   ]
  }
 ],
 "metadata": {
  "colab": {
   "provenance": []
  },
  "kernelspec": {
   "display_name": "Python 3",
   "language": "python",
   "name": "python3"
  },
  "language_info": {
   "codemirror_mode": {
    "name": "ipython",
    "version": 3
   },
   "file_extension": ".py",
   "mimetype": "text/x-python",
   "name": "python",
   "nbconvert_exporter": "python",
   "pygments_lexer": "ipython3",
   "version": "3.7.6"
  }
 },
 "nbformat": 4,
 "nbformat_minor": 0
}
